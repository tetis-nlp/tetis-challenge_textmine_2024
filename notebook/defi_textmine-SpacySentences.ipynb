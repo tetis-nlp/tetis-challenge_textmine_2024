{
 "cells": [
  {
   "cell_type": "code",
   "execution_count": 1,
   "metadata": {
    "executionInfo": {
     "elapsed": 10793,
     "status": "ok",
     "timestamp": 1686305120892,
     "user": {
      "displayName": "mehtab Alam",
      "userId": "10929531033452263395"
     },
     "user_tz": -120
    },
    "id": "yDdTUV5JECAw"
   },
   "outputs": [],
   "source": [
    "import spacy\n",
    "import pandas as pd\n",
    "from sklearn.model_selection import train_test_split\n",
    "import matplotlib.pyplot as plt"
   ]
  },
  {
   "cell_type": "markdown",
   "metadata": {
    "id": "7F_CIT2TKG-q"
   },
   "source": [
    "**geogFeat =** geogFeat + geogFeat geogName + geogFeat geogName geogName + geogName geogFeat + geogFeat geogName geogName geogName  = **4167**\n",
    "\n",
    "**geogName =** geogName + name geogName + geogFeat geogName + geogName name + geogFeat geogName geogName + name geogName geogName + geogName geogName + geogName geogFeat geogName + geogName geogName name + geogName name geogName + geogName geogFeat + geogFeat geogName geogName geogName + geogName geogName name geogName \n",
    "\n",
    "**geogFeat geogName =** geogFeat geogName + geogFeat geogName geogName + geogName geogFeat geogName + geogName geogFeat + geogFeat geogName geogName geogName = **1469**\n",
    "\n",
    "**name** = name geogName + geogName name + name geogName geogName + geogName geogName name + geogName name geogName + geogName geogName name geogName \n",
    "\n",
    "\n",
    "**name geogName =** name geogName + geogName name + name geogName geogName + geogName geogName name + geogName name geogName + geogName geogName name geogName \n"
   ]
  },
  {
   "cell_type": "code",
   "execution_count": 2,
   "metadata": {
    "colab": {
     "base_uri": "https://localhost:8080/"
    },
    "executionInfo": {
     "elapsed": 412,
     "status": "ok",
     "timestamp": 1686305121283,
     "user": {
      "displayName": "mehtab Alam",
      "userId": "10929531033452263395"
     },
     "user_tz": -120
    },
    "id": "yLvcPYKkD5l1",
    "outputId": "149e670f-a56f-43c3-8036-f43a2c20f350"
   },
   "outputs": [
    {
     "data": {
      "text/plain": [
       "aucun                32663\n",
       "geogFeat              2704\n",
       "geogName name         2117\n",
       "geogFeat geogName     1463\n",
       "geogName               910\n",
       "Name: Label, dtype: int64"
      ]
     },
     "execution_count": 2,
     "metadata": {},
     "output_type": "execute_result"
    }
   ],
   "source": [
    "df = pd.read_csv(\"./defi-textmine-2024/train_2.csv\")\n",
    "df.Label.value_counts()"
   ]
  },
  {
   "cell_type": "code",
   "execution_count": 3,
   "metadata": {
    "colab": {
     "base_uri": "https://localhost:8080/"
    },
    "executionInfo": {
     "elapsed": 3,
     "status": "ok",
     "timestamp": 1686305121627,
     "user": {
      "displayName": "mehtab Alam",
      "userId": "10929531033452263395"
     },
     "user_tz": -120
    },
    "id": "sOC_kK2_iT4G",
    "outputId": "e79708ef-3748-4adf-9de0-48cf95dfd978"
   },
   "outputs": [
    {
     "data": {
      "text/plain": [
       "aucun                32663\n",
       "geogFeat              2704\n",
       "name geogName         2117\n",
       "geogFeat geogName     1463\n",
       "geogName               910\n",
       "Name: Label, dtype: int64"
      ]
     },
     "execution_count": 3,
     "metadata": {},
     "output_type": "execute_result"
    }
   ],
   "source": [
    "# Let's clean the labels\n",
    "def clean_label(string):\n",
    "    string = string.split(\" \")\n",
    "    string = \" \".join(list(set(string)))  \n",
    "    return(string)\n",
    "df[\"Label\"] = df[\"Label\"].apply(clean_label)\n",
    "\n",
    "def isgeogFeat(string):\n",
    "    geogFeat = False\n",
    "    if \"geogFeat\" in string:\n",
    "        geogFeat = True\n",
    "    return(geogFeat)\n",
    "def isgeogName(string):\n",
    "    geogName = False\n",
    "    if \"geogName\" in string:\n",
    "        geogName = True\n",
    "    return(geogName)\n",
    "def isName(string):\n",
    "    Name = False\n",
    "    if (\"name\" in string):\n",
    "        Name = True\n",
    "    return(Name)\n",
    "\n",
    "df[\"Label\"] = df[\"Label\"].apply(clean_label)\n",
    "labels_count = df.Label.value_counts()\n",
    "labels_count"
   ]
  },
  {
   "cell_type": "code",
   "execution_count": 6,
   "metadata": {
    "colab": {
     "base_uri": "https://localhost:8080/",
     "height": 602
    },
    "executionInfo": {
     "elapsed": 378,
     "status": "ok",
     "timestamp": 1686305122003,
     "user": {
      "displayName": "mehtab Alam",
      "userId": "10929531033452263395"
     },
     "user_tz": -120
    },
    "id": "YKi6kmzmpkat",
    "outputId": "91f7d80e-61e1-44ed-b427-81dea56b7c82"
   },
   "outputs": [
    {
     "data": {
      "image/png": "[encoded data removed]",
      "text/plain": [
       "<Figure size 640x480 with 1 Axes>"
      ]
     },
     "metadata": {},
     "output_type": "display_data"
    }
   ],
   "source": [
    "colors = ['blue', 'green', 'red', 'brown', 'grey']\n",
    "labels_count.plot(kind='bar', color=colors)\n",
    "plt.xlabel('Class Labels')\n",
    "plt.ylabel('Count')\n",
    "plt.title('Count of Classes')\n",
    "plt.show()"
   ]
  },
  {
   "cell_type": "code",
   "execution_count": 7,
   "metadata": {
    "colab": {
     "base_uri": "https://localhost:8080/"
    },
    "executionInfo": {
     "elapsed": 9097,
     "status": "ok",
     "timestamp": 1686305131093,
     "user": {
      "displayName": "mehtab Alam",
      "userId": "10929531033452263395"
     },
     "user_tz": -120
    },
    "id": "vQpqrpiIsX69",
    "outputId": "8a0d66ff-e137-43b6-a9d8-2d201258bf42"
   },
   "outputs": [
    {
     "name": "stdout",
     "output_type": "stream",
     "text": [
      "\u001b[38;5;2m✔ Download and installation successful\u001b[0m\n",
      "You can now load the package via spacy.load('fr_core_news_lg')\n"
     ]
    }
   ],
   "source": [
    "import spacy.cli\n",
    "spacy.cli.download(\"fr_core_news_lg\")\n",
    "df.replace('\"', '', regex=True, inplace=True)"
   ]
  },
  {
   "cell_type": "markdown",
   "metadata": {},
   "source": [
    "### Get the sentences"
   ]
  },
  {
   "cell_type": "code",
   "execution_count": 8,
   "metadata": {},
   "outputs": [
    {
     "data": {
      "text/html": [
       "<div>\n",
       "<style scoped>\n",
       "    .dataframe tbody tr th:only-of-type {\n",
       "        vertical-align: middle;\n",
       "    }\n",
       "\n",
       "    .dataframe tbody tr th {\n",
       "        vertical-align: top;\n",
       "    }\n",
       "\n",
       "    .dataframe thead th {\n",
       "        text-align: right;\n",
       "    }\n",
       "</style>\n",
       "<table border=\"1\" class=\"dataframe\">\n",
       "  <thead>\n",
       "    <tr style=\"text-align: right;\">\n",
       "      <th></th>\n",
       "      <th>Id</th>\n",
       "      <th>Token</th>\n",
       "      <th>Label</th>\n",
       "      <th>Sentence</th>\n",
       "    </tr>\n",
       "  </thead>\n",
       "  <tbody>\n",
       "    <tr>\n",
       "      <th>0</th>\n",
       "      <td>0</td>\n",
       "      <td>01</td>\n",
       "      <td>aucun</td>\n",
       "      <td>0</td>\n",
       "    </tr>\n",
       "    <tr>\n",
       "      <th>1</th>\n",
       "      <td>1</td>\n",
       "      <td>4.5.3</td>\n",
       "      <td>aucun</td>\n",
       "      <td>0</td>\n",
       "    </tr>\n",
       "    <tr>\n",
       "      <th>2</th>\n",
       "      <td>2</td>\n",
       "      <td>.</td>\n",
       "      <td>aucun</td>\n",
       "      <td>0</td>\n",
       "    </tr>\n",
       "    <tr>\n",
       "      <th>3</th>\n",
       "      <td>3</td>\n",
       "      <td>Port</td>\n",
       "      <td>geogFeat geogName</td>\n",
       "      <td>1</td>\n",
       "    </tr>\n",
       "    <tr>\n",
       "      <th>4</th>\n",
       "      <td>4</td>\n",
       "      <td>du</td>\n",
       "      <td>geogName</td>\n",
       "      <td>1</td>\n",
       "    </tr>\n",
       "    <tr>\n",
       "      <th>...</th>\n",
       "      <td>...</td>\n",
       "      <td>...</td>\n",
       "      <td>...</td>\n",
       "      <td>...</td>\n",
       "    </tr>\n",
       "    <tr>\n",
       "      <th>39852</th>\n",
       "      <td>39852</td>\n",
       "      <td>portée</td>\n",
       "      <td>aucun</td>\n",
       "      <td>1701</td>\n",
       "    </tr>\n",
       "    <tr>\n",
       "      <th>39853</th>\n",
       "      <td>39853</td>\n",
       "      <td>sur</td>\n",
       "      <td>aucun</td>\n",
       "      <td>1701</td>\n",
       "    </tr>\n",
       "    <tr>\n",
       "      <th>39854</th>\n",
       "      <td>39854</td>\n",
       "      <td>les</td>\n",
       "      <td>aucun</td>\n",
       "      <td>1701</td>\n",
       "    </tr>\n",
       "    <tr>\n",
       "      <th>39855</th>\n",
       "      <td>39855</td>\n",
       "      <td>cartes</td>\n",
       "      <td>aucun</td>\n",
       "      <td>1701</td>\n",
       "    </tr>\n",
       "    <tr>\n",
       "      <th>39856</th>\n",
       "      <td>39856</td>\n",
       "      <td>.</td>\n",
       "      <td>aucun</td>\n",
       "      <td>1701</td>\n",
       "    </tr>\n",
       "  </tbody>\n",
       "</table>\n",
       "<p>39857 rows × 4 columns</p>\n",
       "</div>"
      ],
      "text/plain": [
       "          Id   Token              Label  Sentence\n",
       "0          0      01              aucun         0\n",
       "1          1   4.5.3              aucun         0\n",
       "2          2       .              aucun         0\n",
       "3          3    Port  geogFeat geogName         1\n",
       "4          4      du           geogName         1\n",
       "...      ...     ...                ...       ...\n",
       "39852  39852  portée              aucun      1701\n",
       "39853  39853     sur              aucun      1701\n",
       "39854  39854     les              aucun      1701\n",
       "39855  39855  cartes              aucun      1701\n",
       "39856  39856       .              aucun      1701\n",
       "\n",
       "[39857 rows x 4 columns]"
      ]
     },
     "execution_count": 8,
     "metadata": {},
     "output_type": "execute_result"
    }
   ],
   "source": [
    "dot_index = [i for i,v in enumerate(df.Token.tolist()) if v==\".\"]\n",
    "sentence = list()\n",
    "s = 0\n",
    "for i in list(range(len(df.Token.tolist()))):\n",
    "    if df.Token.tolist()[i] != \".\":\n",
    "        sentence.append(s)\n",
    "    else:\n",
    "        sentence.append(s)\n",
    "        s = s+1\n",
    "df['Sentence'] = sentence\n",
    "df"
   ]
  },
  {
   "cell_type": "markdown",
   "metadata": {},
   "source": [
    "### Create the training and test sets"
   ]
  },
  {
   "cell_type": "code",
   "execution_count": 9,
   "metadata": {
    "executionInfo": {
     "elapsed": 8979,
     "status": "ok",
     "timestamp": 1686305140070,
     "user": {
      "displayName": "mehtab Alam",
      "userId": "10929531033452263395"
     },
     "user_tz": -120
    },
    "id": "hxaeXkUDrVzR"
   },
   "outputs": [],
   "source": [
    "from spacy.tokens import Doc\n",
    "from spacy.training import Example\n",
    "nlp = spacy.blank(\"fr\")\n",
    "df.replace('\"', '', regex=True, inplace=True)"
   ]
  },
  {
   "cell_type": "code",
   "execution_count": 79,
   "metadata": {},
   "outputs": [],
   "source": [
    "train_docs = []\n",
    "for s in list(set(df.Sentence)):\n",
    "    words = df[df.Sentence == s].Token.tolist()\n",
    "    labels = df[df.Sentence == s].Label.tolist()\n",
    "    doc = Doc(nlp.vocab, words=words)\n",
    "    entities_tmp = []\n",
    "    for i, w in enumerate(words):\n",
    "        if i == 0:\n",
    "            entities_tmp = [(0, len(w), labels[0])]\n",
    "            start = len(w)+1\n",
    "        else:\n",
    "            entities_tmp.append((start, start + len(w), labels[i]))\n",
    "            start = start + 1 + len(w)\n",
    "    train_docs.append((\" \".join(words), {'entities':entities_tmp}))\n"
   ]
  },
  {
   "cell_type": "code",
   "execution_count": 80,
   "metadata": {},
   "outputs": [],
   "source": [
    "train_data, test_data = train_test_split(train_docs, test_size=0.20, random_state=42)\n",
    "id_sentences_train, id_sentences_test = train_test_split(range(len(train_docs)), test_size=0.20, random_state=42)"
   ]
  },
  {
   "cell_type": "code",
   "execution_count": 81,
   "metadata": {},
   "outputs": [
    {
     "data": {
      "text/plain": [
       "1361"
      ]
     },
     "execution_count": 81,
     "metadata": {},
     "output_type": "execute_result"
    }
   ],
   "source": [
    "len(id_sentences_train)"
   ]
  },
  {
   "cell_type": "code",
   "execution_count": 82,
   "metadata": {},
   "outputs": [
    {
     "data": {
      "text/plain": [
       "341"
      ]
     },
     "execution_count": 82,
     "metadata": {},
     "output_type": "execute_result"
    }
   ],
   "source": [
    "len(id_sentences_test)"
   ]
  },
  {
   "cell_type": "markdown",
   "metadata": {},
   "source": [
    "### Train the model"
   ]
  },
  {
   "cell_type": "code",
   "execution_count": 84,
   "metadata": {
    "colab": {
     "base_uri": "https://localhost:8080/"
    },
    "executionInfo": {
     "elapsed": 2143918,
     "status": "ok",
     "timestamp": 1686310056555,
     "user": {
      "displayName": "mehtab Alam",
      "userId": "10929531033452263395"
     },
     "user_tz": -120
    },
    "id": "k_0oT4wnJMWu",
    "outputId": "82ab67ad-2a93-4407-c68d-601ff8713c28"
   },
   "outputs": [],
   "source": [
    "from tqdm import tqdm\n",
    "epocs = 5 \n",
    "\n",
    "if \"ner\" not in nlp.pipe_names:\n",
    "    ner = nlp.add_pipe(\"ner\")\n",
    "else:\n",
    "    ner = nlp.get_pipe(\"ner\")\n",
    "\n",
    "# Add the labels to the NER pipeline\n",
    "if \"ner\" not in nlp.pipe_names:\n",
    "    ner = nlp.add_pipe(\"ner\")\n",
    "else:\n",
    "    ner = nlp.get_pipe(\"ner\")\n",
    "\n",
    "# Add the labels to the NER pipeline\n",
    "for _, annotations in train_data:\n",
    "    for ent in annotations.get('entities'):\n",
    "     \n",
    "        ner.add_label(ent[2])\n"
   ]
  },
  {
   "cell_type": "code",
   "execution_count": 95,
   "metadata": {},
   "outputs": [
    {
     "name": "stderr",
     "output_type": "stream",
     "text": [
      "Training: 6805it [02:31, 44.91it/s, loss=1.13e+3]                                                                      \n"
     ]
    }
   ],
   "source": [
    "epocs=5\n",
    "# Initialize the training process\n",
    "optimizer = nlp.begin_training()\n",
    "\n",
    "progress_bar = tqdm(total=len(train_data), desc=\"Training\")\n",
    "# Train the token classification model\n",
    "for _ in range(epocs):  # Adjust the number of training iterations as needed\n",
    "    losses = {}\n",
    "    for text, annotations in train_data:\n",
    "        doc = nlp.make_doc(text)\n",
    "        example = Example.from_dict(doc, annotations)\n",
    "        nlp.update([example], sgd=optimizer, losses=losses)\n",
    "        progress_bar.set_postfix(loss=losses[\"ner\"])\n",
    "        progress_bar.update(1)\n",
    "progress_bar.close()\n",
    "\n",
    "model_output_dir = \"./defi_finetuned_sentences_5epocs.tar\"\n",
    "nlp.to_disk(model_output_dir)\n"
   ]
  },
  {
   "cell_type": "markdown",
   "metadata": {},
   "source": [
    "### Test the model"
   ]
  },
  {
   "cell_type": "code",
   "execution_count": 96,
   "metadata": {},
   "outputs": [
    {
     "name": "stdout",
     "output_type": "stream",
     "text": [
      "Accuracy: 0.0\n"
     ]
    }
   ],
   "source": [
    "# Test the trained model on the test set\n",
    "correct = 0\n",
    "total = 0\n",
    "predicted_labels = []\n",
    "true_labels = []\n",
    "for text, label in test_data:\n",
    "    doc = Doc(nlp.vocab, words=text.split(\" \"))\n",
    "    #nlp.tagger(doc)\n",
    "    #nlp.parser(doc)\n",
    "    nlp.get_pipe(\"ner\")(doc)\n",
    "    predicted_label = [word.ent_type_ for word in doc]\n",
    "    predicted_labels = predicted_labels + predicted_label\n",
    "    tmp_labels = [ent[2] for ent in label.get('entities')]\n",
    "    true_labels= true_labels + tmp_labels"
   ]
  },
  {
   "cell_type": "code",
   "execution_count": 97,
   "metadata": {},
   "outputs": [],
   "source": [
    "for i, value in enumerate(predicted_labels):\n",
    "    if value == '':\n",
    "        predicted_labels[i] = \"aucun\""
   ]
  },
  {
   "cell_type": "code",
   "execution_count": 88,
   "metadata": {},
   "outputs": [
    {
     "data": {
      "text/plain": [
       "8586"
      ]
     },
     "execution_count": 88,
     "metadata": {},
     "output_type": "execute_result"
    }
   ],
   "source": [
    "len(predicted_labels)"
   ]
  },
  {
   "cell_type": "code",
   "execution_count": 89,
   "metadata": {},
   "outputs": [
    {
     "data": {
      "text/plain": [
       "8586"
      ]
     },
     "execution_count": 89,
     "metadata": {},
     "output_type": "execute_result"
    }
   ],
   "source": [
    "len(true_labels)"
   ]
  },
  {
   "cell_type": "code",
   "execution_count": 98,
   "metadata": {},
   "outputs": [
    {
     "name": "stdout",
     "output_type": "stream",
     "text": [
      "Micro F1-score: 0.9515151562961093\n"
     ]
    }
   ],
   "source": [
    "from sklearn.metrics import precision_recall_fscore_support\n",
    "precision, recall, f1_score, _ = precision_recall_fscore_support(true_labels, predicted_labels, average='weighted')\n",
    "print(\"Micro F1-score:\", f1_score)"
   ]
  },
  {
   "cell_type": "markdown",
   "metadata": {},
   "source": [
    "Let's remove the \"aucun\" class."
   ]
  },
  {
   "cell_type": "code",
   "execution_count": 100,
   "metadata": {},
   "outputs": [],
   "source": [
    "ids_without_aucun = [i for i,v in enumerate(true_labels) if v!='aucun']\n",
    "predicted_without_aucun = [predicted_labels[i] for i in ids_without_aucun]\n",
    "true_without_aucun = [true_labels[i] for i in ids_without_aucun]"
   ]
  },
  {
   "cell_type": "code",
   "execution_count": 101,
   "metadata": {
    "colab": {
     "base_uri": "https://localhost:8080/"
    },
    "executionInfo": {
     "elapsed": 368,
     "status": "ok",
     "timestamp": 1686322310641,
     "user": {
      "displayName": "mehtab Alam",
      "userId": "10929531033452263395"
     },
     "user_tz": -120
    },
    "id": "-awkW9bfpAEe",
    "outputId": "441e7a68-993c-45ee-c489-359c5c9064e2"
   },
   "outputs": [
    {
     "name": "stdout",
     "output_type": "stream",
     "text": [
      "Micro F1-score: 0.8176943699731903\n"
     ]
    }
   ],
   "source": [
    "precision, recall, f1_score, _ = precision_recall_fscore_support(true_without_aucun, predicted_without_aucun, average='weighted')\n",
    "\n",
    "print(\"Micro F1-score:\", f1_score)"
   ]
  },
  {
   "cell_type": "code",
   "execution_count": 102,
   "metadata": {
    "colab": {
     "base_uri": "https://localhost:8080/",
     "height": 541
    },
    "executionInfo": {
     "elapsed": 1471,
     "status": "ok",
     "timestamp": 1686322231285,
     "user": {
      "displayName": "mehtab Alam",
      "userId": "10929531033452263395"
     },
     "user_tz": -120
    },
    "id": "2lBlGTRglmOx",
    "outputId": "a57bb73e-f502-43b9-e165-fa382b5916f7"
   },
   "outputs": [
    {
     "data": {
      "image/png": "[encoded data removed]",
      "text/plain": [
       "<Figure size 600x400 with 2 Axes>"
      ]
     },
     "metadata": {},
     "output_type": "display_data"
    }
   ],
   "source": [
    "import seaborn as sns\n",
    "from sklearn.metrics import confusion_matrix\n",
    "import numpy as np\n",
    "# Assuming you have the true labels and predicted labels stored in the variables true_labels and predicted_labels\n",
    "\n",
    "# Compute the confusion matrix\n",
    "cm = confusion_matrix(true_labels, predicted_labels)\n",
    "\n",
    "# Get the unique class labels\n",
    "class_labels = np.unique(np.concatenate((true_labels, predicted_labels)))\n",
    "\n",
    "# Create a DataFrame from the confusion matrix\n",
    "df_cm = pd.DataFrame(cm, index=class_labels, columns=class_labels)\n",
    "\n",
    "# Create a heatmap using seaborn\n",
    "plt.figure(figsize=(6, 4))\n",
    "sns.heatmap(df_cm, annot=True, cmap='Blues', fmt='d')\n",
    "plt.title('Confusion Matrix')\n",
    "plt.xlabel('Predicted')\n",
    "plt.ylabel('True')\n",
    "plt.show()\n"
   ]
  },
  {
   "cell_type": "code",
   "execution_count": 10,
   "metadata": {
    "colab": {
     "base_uri": "https://localhost:8080/"
    },
    "executionInfo": {
     "elapsed": 6,
     "status": "ok",
     "timestamp": 1686310074629,
     "user": {
      "displayName": "mehtab Alam",
      "userId": "10929531033452263395"
     },
     "user_tz": -120
    },
    "id": "B3kfWyOaWO0_",
    "outputId": "1f2205b3-8db2-4854-c79a-2dffb095ec15"
   },
   "outputs": [
    {
     "name": "stdout",
     "output_type": "stream",
     "text": [
      "Class: aucun\n",
      "Precision: 0.9648676932276873\n",
      "Recall: 0.9891187739463602\n",
      "F1 Score: 0.9768427425457847\n",
      "Support: 6525\n",
      "-------------------\n",
      "Class: geogFeat\n",
      "Precision: 0.6938775510204082\n",
      "Recall: 0.5396825396825397\n",
      "F1 Score: 0.6071428571428572\n",
      "Support: 567\n",
      "-------------------\n",
      "Class: geogFeat geogName\n",
      "Precision: 0.7741935483870968\n",
      "Recall: 0.6813880126182965\n",
      "F1 Score: 0.7248322147651007\n",
      "Support: 317\n",
      "-------------------\n",
      "Class: geogName\n",
      "Precision: 1.0\n",
      "Recall: 1.0\n",
      "F1 Score: 1.0\n",
      "Support: 160\n",
      "-------------------\n",
      "Class: name geogName\n",
      "Precision: 1.0\n",
      "Recall: 1.0\n",
      "F1 Score: 1.0\n",
      "Support: 403\n",
      "-------------------\n"
     ]
    }
   ],
   "source": [
    "from sklearn.metrics import precision_recall_fscore_support\n",
    "true_labels = [label for _, label in test_data]\n",
    "\n",
    "precision, recall, f1_score, support = precision_recall_fscore_support(\n",
    "    true_labels, predicted_labels, average=None\n",
    ")\n",
    "\n",
    "# Print the results for each class\n",
    "for label, prec, rec, f1, supp in zip(nlp.get_pipe(\"ner\").labels, precision, recall, f1_score, support):\n",
    "    print(f\"Class: {label}\")\n",
    "    print(f\"Precision: {prec}\")\n",
    "    print(f\"Recall: {rec}\")\n",
    "    print(f\"F1 Score: {f1}\")\n",
    "    print(f\"Support: {supp}\")\n",
    "    print(\"-------------------\")"
   ]
  },
  {
   "cell_type": "markdown",
   "metadata": {},
   "source": [
    "### Prediction on test file"
   ]
  },
  {
   "cell_type": "code",
   "execution_count": 135,
   "metadata": {
    "executionInfo": {
     "elapsed": 254,
     "status": "ok",
     "timestamp": 1686315795306,
     "user": {
      "displayName": "mehtab Alam",
      "userId": "10929531033452263395"
     },
     "user_tz": -120
    },
    "id": "DOkkcc4IL4GR"
   },
   "outputs": [],
   "source": [
    "df_test = pd.read_csv(\"./defi-textmine-2024/test.csv\")\n",
    "df_test.replace('\"', '', regex=True, inplace=True)"
   ]
  },
  {
   "cell_type": "code",
   "execution_count": 104,
   "metadata": {},
   "outputs": [
    {
     "data": {
      "text/html": [
       "<div>\n",
       "<style scoped>\n",
       "    .dataframe tbody tr th:only-of-type {\n",
       "        vertical-align: middle;\n",
       "    }\n",
       "\n",
       "    .dataframe tbody tr th {\n",
       "        vertical-align: top;\n",
       "    }\n",
       "\n",
       "    .dataframe thead th {\n",
       "        text-align: right;\n",
       "    }\n",
       "</style>\n",
       "<table border=\"1\" class=\"dataframe\">\n",
       "  <thead>\n",
       "    <tr style=\"text-align: right;\">\n",
       "      <th></th>\n",
       "      <th>Id</th>\n",
       "      <th>Token</th>\n",
       "      <th>Sentence</th>\n",
       "    </tr>\n",
       "  </thead>\n",
       "  <tbody>\n",
       "    <tr>\n",
       "      <th>0</th>\n",
       "      <td>0</td>\n",
       "      <td>01</td>\n",
       "      <td>0</td>\n",
       "    </tr>\n",
       "    <tr>\n",
       "      <th>1</th>\n",
       "      <td>1</td>\n",
       "      <td>2.1.4.8</td>\n",
       "      <td>0</td>\n",
       "    </tr>\n",
       "    <tr>\n",
       "      <th>2</th>\n",
       "      <td>2</td>\n",
       "      <td>.</td>\n",
       "      <td>0</td>\n",
       "    </tr>\n",
       "    <tr>\n",
       "      <th>3</th>\n",
       "      <td>3</td>\n",
       "      <td>Conduites</td>\n",
       "      <td>1</td>\n",
       "    </tr>\n",
       "    <tr>\n",
       "      <th>4</th>\n",
       "      <td>4</td>\n",
       "      <td>sous-marines</td>\n",
       "      <td>1</td>\n",
       "    </tr>\n",
       "    <tr>\n",
       "      <th>...</th>\n",
       "      <td>...</td>\n",
       "      <td>...</td>\n",
       "      <td>...</td>\n",
       "    </tr>\n",
       "    <tr>\n",
       "      <th>26168</th>\n",
       "      <td>26168</td>\n",
       "      <td>103</td>\n",
       "      <td>1162</td>\n",
       "    </tr>\n",
       "    <tr>\n",
       "      <th>26169</th>\n",
       "      <td>26169</td>\n",
       "      <td>/</td>\n",
       "      <td>1162</td>\n",
       "    </tr>\n",
       "    <tr>\n",
       "      <th>26170</th>\n",
       "      <td>26170</td>\n",
       "      <td>0</td>\n",
       "      <td>1162</td>\n",
       "    </tr>\n",
       "    <tr>\n",
       "      <th>26171</th>\n",
       "      <td>26171</td>\n",
       "      <td>103</td>\n",
       "      <td>1162</td>\n",
       "    </tr>\n",
       "    <tr>\n",
       "      <th>26172</th>\n",
       "      <td>26172</td>\n",
       "      <td>SAINT-PIERRE-ET-MIQUELON</td>\n",
       "      <td>1162</td>\n",
       "    </tr>\n",
       "  </tbody>\n",
       "</table>\n",
       "<p>26173 rows × 3 columns</p>\n",
       "</div>"
      ],
      "text/plain": [
       "          Id                     Token  Sentence\n",
       "0          0                        01         0\n",
       "1          1                   2.1.4.8         0\n",
       "2          2                         .         0\n",
       "3          3                 Conduites         1\n",
       "4          4              sous-marines         1\n",
       "...      ...                       ...       ...\n",
       "26168  26168                       103      1162\n",
       "26169  26169                         /      1162\n",
       "26170  26170                         0      1162\n",
       "26171  26171                       103      1162\n",
       "26172  26172  SAINT-PIERRE-ET-MIQUELON      1162\n",
       "\n",
       "[26173 rows x 3 columns]"
      ]
     },
     "execution_count": 104,
     "metadata": {},
     "output_type": "execute_result"
    }
   ],
   "source": [
    "dot_index = [i for i,v in enumerate(df_test.Token.tolist()) if v==\".\"]\n",
    "sentence = list()\n",
    "s = 0\n",
    "for i in list(range(len(df_test.Token.tolist()))):\n",
    "    if df.Token.tolist()[i] != \".\":\n",
    "        sentence.append(s)\n",
    "    else:\n",
    "        sentence.append(s)\n",
    "        s = s+1\n",
    "df_test['Sentence'] = sentence\n",
    "df_test"
   ]
  },
  {
   "cell_type": "code",
   "execution_count": 105,
   "metadata": {},
   "outputs": [],
   "source": [
    "predicted_labels = []\n",
    "for s in list(set(df_test.Sentence)):\n",
    "    words = df_test[df_test.Sentence == s].Token.tolist()\n",
    "    doc = Doc(nlp.vocab, words=words)\n",
    "    nlp.get_pipe(\"ner\")(doc)\n",
    "    predicted_label = [word.ent_type_ for word in doc]\n",
    "    predicted_labels = predicted_labels + predicted_label\n"
   ]
  },
  {
   "cell_type": "code",
   "execution_count": 138,
   "metadata": {},
   "outputs": [],
   "source": [
    "for index, item in enumerate(predicted_labels):\n",
    "    if item == '':\n",
    "        predicted_labels[index] = 'aucun'"
   ]
  },
  {
   "cell_type": "code",
   "execution_count": 140,
   "metadata": {},
   "outputs": [],
   "source": [
    "df_test['Label'] = predicted_labels"
   ]
  },
  {
   "cell_type": "code",
   "execution_count": 142,
   "metadata": {
    "executionInfo": {
     "elapsed": 267,
     "status": "ok",
     "timestamp": 1686315895040,
     "user": {
      "displayName": "mehtab Alam",
      "userId": "10929531033452263395"
     },
     "user_tz": -120
    },
    "id": "ESM2ER5uOIC2"
   },
   "outputs": [],
   "source": [
    "df_test = df_test[['Id', 'Label']]\n",
    "df_test.to_csv('./defi-textmine-2024/spacy_sentences_fr_epoch5.csv', sep=',', encoding='utf-8', index=False)"
   ]
  }
 ],
 "metadata": {
  "colab": {
   "authorship_tag": "ABX9TyMI4zOoHOL9NpA8OltGNSn9",
   "provenance": []
  },
  "kernelspec": {
   "display_name": "Python 3 (ipykernel)",
   "language": "python",
   "name": "python3"
  },
  "language_info": {
   "codemirror_mode": {
    "name": "ipython",
    "version": 3
   },
   "file_extension": ".py",
   "mimetype": "text/x-python",
   "name": "python",
   "nbconvert_exporter": "python",
   "pygments_lexer": "ipython3",
   "version": "3.10.9"
  }
 },
 "nbformat": 4,
 "nbformat_minor": 1
}

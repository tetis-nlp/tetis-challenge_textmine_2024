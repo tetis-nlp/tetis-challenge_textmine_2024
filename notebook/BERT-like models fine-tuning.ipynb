{
 "cells": [
  {
   "attachments": {},
   "cell_type": "markdown",
   "metadata": {},
   "source": [
    "# BERT-like models fine-tuning\n",
    "Fine-tune BERT-like model on Text-mine data"
   ]
  },
  {
   "cell_type": "code",
   "execution_count": null,
   "metadata": {},
   "outputs": [],
   "source": [
    "import pandas as pd\n",
    "import transformers\n",
    "from datasets import Dataset, DatasetDict\n",
    "from sklearn.model_selection import train_test_split"
   ]
  },
  {
   "attachments": {},
   "cell_type": "markdown",
   "metadata": {},
   "source": [
    "## 0. Global parameters below:\n",
    "- **Choose your pre-trained model**\n",
    "- Split percentage between train and test\n",
    "- Average method for the evaluation metric. Default: \"micro\""
   ]
  },
  {
   "cell_type": "code",
   "execution_count": null,
   "metadata": {},
   "outputs": [],
   "source": [
    "pretrained_model = \"xlm-roberta-large\"\n",
    "splited_size = 0.2\n",
    "metric_average_method = \"micro\""
   ]
  },
  {
   "attachments": {},
   "cell_type": "markdown",
   "metadata": {},
   "source": [
    "## 1. Importing input data and cleaning\n",
    "\n",
    "1. Load the data\n",
    "2. Replace the wrong label (see EDA notebook from Sarah)\n",
    "3. rebuild the sentences\n",
    "4. Create dataset_dict for the training\n",
    "5. split the training / test dataset"
   ]
  },
  {
   "cell_type": "code",
   "execution_count": null,
   "metadata": {},
   "outputs": [],
   "source": [
    "df_raw = pd.read_csv(\"./../data/train.csv\")"
   ]
  },
  {
   "cell_type": "code",
   "execution_count": null,
   "metadata": {},
   "outputs": [],
   "source": [
    "# Cleaning the data\n",
    "def cleaning_label(label):\n",
    "    if label == \"geogName name\":\n",
    "        return \"name geogName\"\n",
    "    elif label == \"geogFeat geogName geogName\":\n",
    "        return \"geogFeat geogName\"\n",
    "    elif label == \"name geogName geogName\":\n",
    "        return \"name geogName\"\n",
    "    elif label == \"geogName geogName\":\n",
    "        return \"geogName\"\n",
    "    elif label == \"geogName geogFeat geogName\":\n",
    "        return \"geogFeat geogName\"\n",
    "    elif label == \"geogName geogFeat\":\n",
    "        return \"geogFeat geogName\"\n",
    "    elif label == \"geogName geogName name\":\n",
    "        return \"name geogName\"\n",
    "    elif label == \"geogName name geogName\":\n",
    "        return \"name geogName\"\n",
    "    elif label == \"geogFeat geogName geogName geogName\":\n",
    "        return \"geogFeat geogName\"\n",
    "    elif label == \"geogName geogName name geogName\":\n",
    "        return \"name geogName\"\n",
    "    else:\n",
    "        return label\n",
    "\n",
    "df_raw[\"Label\"] = df_raw[\"Label\"].apply(cleaning_label)\n"
   ]
  },
  {
   "cell_type": "code",
   "execution_count": null,
   "metadata": {},
   "outputs": [],
   "source": [
    "label_correspondance = {\n",
    "    0: \"aucun\",\n",
    "    1: \"geogFeat\",\n",
    "    2: \"geogFeat geogName\",\n",
    "    3: \"geogName\",\n",
    "    4: \"name\",\n",
    "    5: \"name geogName\"\n",
    "}\n",
    "\n",
    "def label_id(desired_value):\n",
    "    # reverse Correspondance between label value and their index\n",
    "    for key, value in label_correspondance.items():\n",
    "        if value == desired_value:\n",
    "            return key"
   ]
  },
  {
   "cell_type": "code",
   "execution_count": null,
   "metadata": {},
   "outputs": [],
   "source": [
    "# Rebuilding the sentences and making list of labels\n",
    "current_sentence = []\n",
    "current_sentence_label = []\n",
    "current_sentence_ner_tag = []\n",
    "list_sentences = []\n",
    "list_sentences_label = []\n",
    "list_sentences_ner_tags = []\n",
    "\n",
    "# Iterate over each row in the DataFrame\n",
    "for index, row in df_raw.iterrows():\n",
    "    token = row['Token'].replace('\"','')\n",
    "    label = row['Label']\n",
    "    ner_tag = label_id(row[\"Label\"])\n",
    "    current_sentence.append(token)\n",
    "    current_sentence_label.append(label)\n",
    "    current_sentence_ner_tag.append(ner_tag)\n",
    "    \n",
    "    # Check if the current token ends with a period\n",
    "    if token.endswith('.'):       \n",
    "        # Update the 'Sentence' column with the rebuilt sentence\n",
    "        list_sentences.append(current_sentence)\n",
    "        list_sentences_label.append(current_sentence_label)\n",
    "        list_sentences_ner_tags.append(current_sentence_ner_tag)\n",
    "        \n",
    "        # Reset the current sentence\n",
    "        current_sentence = []\n",
    "        current_sentence_label = []\n",
    "        current_sentence_ner_tag = []\n",
    "\n",
    "df = pd.DataFrame()\n",
    "df[\"tokens\"] = list_sentences\n",
    "df[\"labels\"] = list_sentences_label\n",
    "df[\"ner_tags\"] = list_sentences_ner_tags"
   ]
  },
  {
   "cell_type": "code",
   "execution_count": null,
   "metadata": {},
   "outputs": [],
   "source": [
    "df"
   ]
  },
  {
   "cell_type": "code",
   "execution_count": null,
   "metadata": {},
   "outputs": [],
   "source": [
    "data_dict = {\n",
    "    'tokens': df['tokens'].tolist(),\n",
    "    'ner_tags': df[\"ner_tags\"].tolist()\n",
    "}\n",
    "\n",
    "dataset = Dataset.from_dict(data_dict)\n",
    "\n",
    "# Split the dataset into train and test sets\n",
    "dataset_dict = dataset.train_test_split(test_size=splited_size)"
   ]
  },
  {
   "cell_type": "code",
   "execution_count": null,
   "metadata": {},
   "outputs": [],
   "source": [
    "dataset_dict"
   ]
  },
  {
   "cell_type": "code",
   "execution_count": null,
   "metadata": {},
   "outputs": [],
   "source": [
    "from transformers import AutoTokenizer\n",
    "tokenizer = AutoTokenizer.from_pretrained(pretrained_model)"
   ]
  },
  {
   "cell_type": "code",
   "execution_count": null,
   "metadata": {},
   "outputs": [],
   "source": [
    "test_number = 2\n",
    "\n",
    "inputs = tokenizer(dataset_dict[\"train\"][test_number][\"tokens\"], is_split_into_words=True)\n",
    "print(f\"sentence: {dataset_dict['train'][test_number]['tokens']}\")\n",
    "inputs.tokens()"
   ]
  },
  {
   "cell_type": "code",
   "execution_count": null,
   "metadata": {},
   "outputs": [],
   "source": [
    "def align_labels_with_tokens(labels, word_ids):\n",
    "    new_labels = []\n",
    "    current_word = None\n",
    "    for word_id in word_ids:\n",
    "        if word_id != current_word:\n",
    "            # Start of a new word!\n",
    "            current_word = word_id\n",
    "            label = -100 if word_id is None else labels[word_id]\n",
    "            new_labels.append(label)\n",
    "        elif word_id is None:\n",
    "            # Special token\n",
    "            new_labels.append(-100)\n",
    "        else:\n",
    "            # Same word as previous token\n",
    "            label = labels[word_id]\n",
    "            # If the label is B-XXX we change it to I-XXX\n",
    "            # if label % 2 == 1:\n",
    "                # label += 1\n",
    "            new_labels.append(label)\n",
    "\n",
    "    return new_labels\n",
    "\n",
    "def tokenize_and_align_labels(examples):\n",
    "    tokenized_inputs = tokenizer(\n",
    "        # examples[\"tokens\"], truncation=True, is_split_into_words=True\n",
    "        examples[\"tokens\"], is_split_into_words=True\n",
    "    )\n",
    "    all_labels = examples[\"ner_tags\"]\n",
    "    new_labels = []\n",
    "    for i, labels in enumerate(all_labels):\n",
    "        word_ids = tokenized_inputs.word_ids(i)\n",
    "        new_labels.append(align_labels_with_tokens(labels, word_ids))\n",
    "\n",
    "    tokenized_inputs[\"labels\"] = new_labels\n",
    "    return tokenized_inputs"
   ]
  },
  {
   "cell_type": "code",
   "execution_count": null,
   "metadata": {},
   "outputs": [],
   "source": [
    "tokenized_datasets = dataset_dict.map(\n",
    "    tokenize_and_align_labels,\n",
    "    batched=True,\n",
    "    remove_columns=dataset_dict[\"train\"].column_names,\n",
    ")"
   ]
  },
  {
   "cell_type": "code",
   "execution_count": null,
   "metadata": {},
   "outputs": [],
   "source": [
    "tokenized_datasets"
   ]
  },
  {
   "attachments": {},
   "cell_type": "markdown",
   "metadata": {},
   "source": [
    "## 2. Training"
   ]
  },
  {
   "cell_type": "code",
   "execution_count": null,
   "metadata": {},
   "outputs": [],
   "source": [
    "import evaluate\n",
    "\n",
    "metric = evaluate.load(\"seqeval\", average=metric_average_method)"
   ]
  },
  {
   "cell_type": "code",
   "execution_count": null,
   "metadata": {},
   "outputs": [],
   "source": [
    "label_correspondance = {\n",
    "    0: \"aucun\",\n",
    "    1: \"geogFeat\",\n",
    "    2: \"geogFeat geogName\",\n",
    "    3: \"geogName\",\n",
    "    4: \"name\",\n",
    "    5: \"name geogName\"\n",
    "}\n",
    "\n",
    "# id2label = {i: label for i, label in enumerate(label_correspondance)}\n",
    "id2label = label_correspondance\n",
    "label2id = {v: k for k, v in id2label.items()}"
   ]
  },
  {
   "cell_type": "code",
   "execution_count": null,
   "metadata": {},
   "outputs": [],
   "source": [
    "import numpy as np\n",
    "\n",
    "\n",
    "def compute_metrics(eval_preds):\n",
    "    logits, labels = eval_preds\n",
    "    predictions = np.argmax(logits, axis=-1)\n",
    "\n",
    "    # Remove ignored index (special tokens) and convert to labels\n",
    "    true_labels = [[label_correspondance[l] for l in label if l != -100] for label in labels]\n",
    "    true_predictions = [\n",
    "        [label_correspondance[p] for (p, l) in zip(prediction, label) if l != -100]\n",
    "        for prediction, label in zip(predictions, labels)\n",
    "    ]\n",
    "    all_metrics = metric.compute(predictions=true_predictions, references=true_labels)\n",
    "    return {\n",
    "        \"precision\": all_metrics[\"overall_precision\"],\n",
    "        \"recall\": all_metrics[\"overall_recall\"],\n",
    "        \"f1\": all_metrics[\"overall_f1\"],\n",
    "        \"accuracy\": all_metrics[\"overall_accuracy\"],\n",
    "        \"aucun_f1\": all_metrics[\"ucun\"][\"f1\"],\n",
    "        \"geogFeat_f1\": all_metrics[\"eogFeat\"][\"f1\"],\n",
    "        \"geogFeat geogName_f1\": all_metrics[\"eogFeat geogName\"][\"f1\"],\n",
    "        \"geogName_f1\": all_metrics[\"eogName\"][\"f1\"],\n",
    "        # \"name_f1\": all_metrics[\"ame\"][\"f1\"], # there is no token labeled as Name\n",
    "        \"name geogName_f1\": all_metrics[\"ame geogName\"][\"f1\"],\n",
    "    }"
   ]
  },
  {
   "cell_type": "code",
   "execution_count": null,
   "metadata": {},
   "outputs": [],
   "source": [
    "label2id"
   ]
  },
  {
   "cell_type": "code",
   "execution_count": null,
   "metadata": {},
   "outputs": [],
   "source": [
    "from transformers import AutoModelForTokenClassification\n",
    "\n",
    "model = AutoModelForTokenClassification.from_pretrained(\n",
    "    pretrained_model,\n",
    "    id2label=id2label,\n",
    "    label2id=label2id,\n",
    ")"
   ]
  },
  {
   "cell_type": "code",
   "execution_count": null,
   "metadata": {},
   "outputs": [],
   "source": [
    "model.config.num_labels"
   ]
  },
  {
   "cell_type": "code",
   "execution_count": null,
   "metadata": {},
   "outputs": [],
   "source": [
    "from transformers import TrainingArguments\n",
    "\n",
    "args = TrainingArguments(\n",
    "    f\"{pretrained_model}_text-mine\",\n",
    "    evaluation_strategy=\"epoch\",\n",
    "    save_strategy=\"epoch\",\n",
    "    learning_rate=2e-5,\n",
    "    num_train_epochs=3,\n",
    "    weight_decay=0.01,\n",
    ")"
   ]
  },
  {
   "cell_type": "code",
   "execution_count": null,
   "metadata": {},
   "outputs": [],
   "source": [
    "from transformers import DataCollatorForTokenClassification\n",
    "\n",
    "data_collator = DataCollatorForTokenClassification(tokenizer=tokenizer)\n"
   ]
  },
  {
   "cell_type": "code",
   "execution_count": null,
   "metadata": {},
   "outputs": [],
   "source": [
    "from transformers import Trainer\n",
    "\n",
    "trainer = Trainer(\n",
    "    model=model,\n",
    "    args=args,\n",
    "    train_dataset=tokenized_datasets[\"train\"],\n",
    "    eval_dataset=tokenized_datasets[\"test\"],\n",
    "    data_collator=data_collator,\n",
    "    compute_metrics=compute_metrics,\n",
    "    tokenizer=tokenizer,\n",
    ")\n",
    "trainer.train()"
   ]
  },
  {
   "cell_type": "code",
   "execution_count": null,
   "metadata": {},
   "outputs": [],
   "source": []
  }
 ],
 "metadata": {
  "kernelspec": {
   "display_name": "Python 3 (ipykernel)",
   "language": "python",
   "name": "python3"
  },
  "language_info": {
   "codemirror_mode": {
    "name": "ipython",
    "version": 3
   },
   "file_extension": ".py",
   "mimetype": "text/x-python",
   "name": "python",
   "nbconvert_exporter": "python",
   "pygments_lexer": "ipython3",
   "version": "3.8.10"
  }
 },
 "nbformat": 4,
 "nbformat_minor": 4
}
